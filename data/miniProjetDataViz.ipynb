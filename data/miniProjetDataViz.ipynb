{
  "nbformat": 4,
  "nbformat_minor": 0,
  "metadata": {
    "colab": {
      "provenance": []
    },
    "kernelspec": {
      "name": "python3",
      "display_name": "Python 3"
    },
    "language_info": {
      "name": "python"
    }
  },
  "cells": [
    {
      "cell_type": "code",
      "execution_count": 25,
      "metadata": {
        "colab": {
          "base_uri": "https://localhost:8080/"
        },
        "id": "YFwM0lrIxImu",
        "outputId": "26519117-4895-4635-88b5-876d46d2cd2e"
      },
      "outputs": [
        {
          "output_type": "stream",
          "name": "stdout",
          "text": [
            "Drive already mounted at /content/drive; to attempt to forcibly remount, call drive.mount(\"/content/drive\", force_remount=True).\n"
          ]
        }
      ],
      "source": [
        "# montage du dossier drive contenant les fichiers\n",
        "from google.colab import drive\n",
        "drive.mount('/content/drive')"
      ]
    },
    {
      "cell_type": "code",
      "source": [
        "pip install pandas openpyxl"
      ],
      "metadata": {
        "colab": {
          "base_uri": "https://localhost:8080/"
        },
        "id": "GoxL7qyvy6dl",
        "outputId": "eeef91d8-3bda-4271-e360-ca6f211c74eb"
      },
      "execution_count": null,
      "outputs": [
        {
          "output_type": "stream",
          "name": "stdout",
          "text": [
            "Requirement already satisfied: pandas in /usr/local/lib/python3.11/dist-packages (2.2.2)\n",
            "Requirement already satisfied: openpyxl in /usr/local/lib/python3.11/dist-packages (3.1.5)\n",
            "Requirement already satisfied: numpy>=1.23.2 in /usr/local/lib/python3.11/dist-packages (from pandas) (2.0.2)\n",
            "Requirement already satisfied: python-dateutil>=2.8.2 in /usr/local/lib/python3.11/dist-packages (from pandas) (2.9.0.post0)\n",
            "Requirement already satisfied: pytz>=2020.1 in /usr/local/lib/python3.11/dist-packages (from pandas) (2025.2)\n",
            "Requirement already satisfied: tzdata>=2022.7 in /usr/local/lib/python3.11/dist-packages (from pandas) (2025.2)\n",
            "Requirement already satisfied: et-xmlfile in /usr/local/lib/python3.11/dist-packages (from openpyxl) (2.0.0)\n",
            "Requirement already satisfied: six>=1.5 in /usr/local/lib/python3.11/dist-packages (from python-dateutil>=2.8.2->pandas) (1.17.0)\n"
          ]
        }
      ]
    },
    {
      "cell_type": "code",
      "source": [
        "# import de la librairie pandas pour la visualisation des données\n",
        "import pandas as pd"
      ],
      "metadata": {
        "id": "6Ew8C8coy_x0"
      },
      "execution_count": 26,
      "outputs": []
    },
    {
      "cell_type": "markdown",
      "source": [
        "Les opérations de prétraitement et filtres nécessaires à ce fichier, pour ne garder que les colonnes correspondantes"
      ],
      "metadata": {
        "id": "jkbKg7p1jWYI"
      }
    },
    {
      "cell_type": "code",
      "source": [
        "chemin_fichier = \"/content/drive/MyDrive/Data/BF.txt\" # chemin vers le fichier BF.txt contenant les données"
      ],
      "metadata": {
        "id": "YbO_ypZDzUqz"
      },
      "execution_count": 27,
      "outputs": []
    },
    {
      "cell_type": "code",
      "source": [
        "# Noms des colonnes de données\n",
        "nom_colonnes = [\n",
        "    'geonameid', 'name', 'asciiname', 'alternatenames', 'latitude', 'longitude',\n",
        "    'feature_class', 'feature_code', 'country_code', 'cc2', 'admin1_code',\n",
        "    'admin2_code', 'admin3_code', 'admin4_code', 'population', 'elevation',\n",
        "    'dem', 'timezone', 'modification_date'\n",
        "]\n"
      ],
      "metadata": {
        "id": "7Rsehn-l1eti"
      },
      "execution_count": 28,
      "outputs": []
    },
    {
      "cell_type": "code",
      "source": [
        "# indices pour la sélection de colonnes désirées\n",
        "indices_colonnes_utiles = [0, 1, 4, 5]"
      ],
      "metadata": {
        "id": "EagUfNMZz882"
      },
      "execution_count": 29,
      "outputs": []
    },
    {
      "cell_type": "code",
      "source": [
        "# lecture des données brutes dans un dataframe pandas\n",
        "df_brute = pd.read_csv(\n",
        "    chemin_fichier,\n",
        "    sep='\\t',\n",
        "    header=None,  # Pas d'en-tête\n",
        "    names=nom_colonnes, # Utiliser la liste de noms de colonnes\n",
        "    usecols=indices_colonnes_utiles # Utiliser les colonnes par index\n",
        ")\n",
        "print(\"Données chargées.\")\n"
      ],
      "metadata": {
        "colab": {
          "base_uri": "https://localhost:8080/"
        },
        "id": "16xpACbv0Tzr",
        "outputId": "291084a0-652a-485b-e154-402ea05ee5c0"
      },
      "execution_count": 30,
      "outputs": [
        {
          "output_type": "stream",
          "name": "stdout",
          "text": [
            "Données chargées.\n"
          ]
        }
      ]
    },
    {
      "cell_type": "code",
      "source": [
        "# Affichage des premières lignes de données\n",
        "df_brute.head()"
      ],
      "metadata": {
        "colab": {
          "base_uri": "https://localhost:8080/",
          "height": 206
        },
        "id": "g_BoT3ca1QaN",
        "outputId": "3d6a5e40-3bd7-4e2f-995f-39c7e823e208"
      },
      "execution_count": 31,
      "outputs": [
        {
          "output_type": "execute_result",
          "data": {
            "text/plain": [
              "   geonameid                name  latitude  longitude\n",
              "0    2282318              Pouéné   9.72908   -2.78660\n",
              "1    2285251  Léraba Occidentale  10.28333   -5.11667\n",
              "2    2287216           Kéléouoro   9.80748   -4.05023\n",
              "3    2294066         White Volta   8.70194   -0.99056\n",
              "4    2298457        Issana Bouga  10.91667   -1.18333"
            ],
            "text/html": [
              "\n",
              "  <div id=\"df-4a1fdcdc-9928-42d5-9545-4344901f8229\" class=\"colab-df-container\">\n",
              "    <div>\n",
              "<style scoped>\n",
              "    .dataframe tbody tr th:only-of-type {\n",
              "        vertical-align: middle;\n",
              "    }\n",
              "\n",
              "    .dataframe tbody tr th {\n",
              "        vertical-align: top;\n",
              "    }\n",
              "\n",
              "    .dataframe thead th {\n",
              "        text-align: right;\n",
              "    }\n",
              "</style>\n",
              "<table border=\"1\" class=\"dataframe\">\n",
              "  <thead>\n",
              "    <tr style=\"text-align: right;\">\n",
              "      <th></th>\n",
              "      <th>geonameid</th>\n",
              "      <th>name</th>\n",
              "      <th>latitude</th>\n",
              "      <th>longitude</th>\n",
              "    </tr>\n",
              "  </thead>\n",
              "  <tbody>\n",
              "    <tr>\n",
              "      <th>0</th>\n",
              "      <td>2282318</td>\n",
              "      <td>Pouéné</td>\n",
              "      <td>9.72908</td>\n",
              "      <td>-2.78660</td>\n",
              "    </tr>\n",
              "    <tr>\n",
              "      <th>1</th>\n",
              "      <td>2285251</td>\n",
              "      <td>Léraba Occidentale</td>\n",
              "      <td>10.28333</td>\n",
              "      <td>-5.11667</td>\n",
              "    </tr>\n",
              "    <tr>\n",
              "      <th>2</th>\n",
              "      <td>2287216</td>\n",
              "      <td>Kéléouoro</td>\n",
              "      <td>9.80748</td>\n",
              "      <td>-4.05023</td>\n",
              "    </tr>\n",
              "    <tr>\n",
              "      <th>3</th>\n",
              "      <td>2294066</td>\n",
              "      <td>White Volta</td>\n",
              "      <td>8.70194</td>\n",
              "      <td>-0.99056</td>\n",
              "    </tr>\n",
              "    <tr>\n",
              "      <th>4</th>\n",
              "      <td>2298457</td>\n",
              "      <td>Issana Bouga</td>\n",
              "      <td>10.91667</td>\n",
              "      <td>-1.18333</td>\n",
              "    </tr>\n",
              "  </tbody>\n",
              "</table>\n",
              "</div>\n",
              "    <div class=\"colab-df-buttons\">\n",
              "\n",
              "  <div class=\"colab-df-container\">\n",
              "    <button class=\"colab-df-convert\" onclick=\"convertToInteractive('df-4a1fdcdc-9928-42d5-9545-4344901f8229')\"\n",
              "            title=\"Convert this dataframe to an interactive table.\"\n",
              "            style=\"display:none;\">\n",
              "\n",
              "  <svg xmlns=\"http://www.w3.org/2000/svg\" height=\"24px\" viewBox=\"0 -960 960 960\">\n",
              "    <path d=\"M120-120v-720h720v720H120Zm60-500h600v-160H180v160Zm220 220h160v-160H400v160Zm0 220h160v-160H400v160ZM180-400h160v-160H180v160Zm440 0h160v-160H620v160ZM180-180h160v-160H180v160Zm440 0h160v-160H620v160Z\"/>\n",
              "  </svg>\n",
              "    </button>\n",
              "\n",
              "  <style>\n",
              "    .colab-df-container {\n",
              "      display:flex;\n",
              "      gap: 12px;\n",
              "    }\n",
              "\n",
              "    .colab-df-convert {\n",
              "      background-color: #E8F0FE;\n",
              "      border: none;\n",
              "      border-radius: 50%;\n",
              "      cursor: pointer;\n",
              "      display: none;\n",
              "      fill: #1967D2;\n",
              "      height: 32px;\n",
              "      padding: 0 0 0 0;\n",
              "      width: 32px;\n",
              "    }\n",
              "\n",
              "    .colab-df-convert:hover {\n",
              "      background-color: #E2EBFA;\n",
              "      box-shadow: 0px 1px 2px rgba(60, 64, 67, 0.3), 0px 1px 3px 1px rgba(60, 64, 67, 0.15);\n",
              "      fill: #174EA6;\n",
              "    }\n",
              "\n",
              "    .colab-df-buttons div {\n",
              "      margin-bottom: 4px;\n",
              "    }\n",
              "\n",
              "    [theme=dark] .colab-df-convert {\n",
              "      background-color: #3B4455;\n",
              "      fill: #D2E3FC;\n",
              "    }\n",
              "\n",
              "    [theme=dark] .colab-df-convert:hover {\n",
              "      background-color: #434B5C;\n",
              "      box-shadow: 0px 1px 3px 1px rgba(0, 0, 0, 0.15);\n",
              "      filter: drop-shadow(0px 1px 2px rgba(0, 0, 0, 0.3));\n",
              "      fill: #FFFFFF;\n",
              "    }\n",
              "  </style>\n",
              "\n",
              "    <script>\n",
              "      const buttonEl =\n",
              "        document.querySelector('#df-4a1fdcdc-9928-42d5-9545-4344901f8229 button.colab-df-convert');\n",
              "      buttonEl.style.display =\n",
              "        google.colab.kernel.accessAllowed ? 'block' : 'none';\n",
              "\n",
              "      async function convertToInteractive(key) {\n",
              "        const element = document.querySelector('#df-4a1fdcdc-9928-42d5-9545-4344901f8229');\n",
              "        const dataTable =\n",
              "          await google.colab.kernel.invokeFunction('convertToInteractive',\n",
              "                                                    [key], {});\n",
              "        if (!dataTable) return;\n",
              "\n",
              "        const docLinkHtml = 'Like what you see? Visit the ' +\n",
              "          '<a target=\"_blank\" href=https://colab.research.google.com/notebooks/data_table.ipynb>data table notebook</a>'\n",
              "          + ' to learn more about interactive tables.';\n",
              "        element.innerHTML = '';\n",
              "        dataTable['output_type'] = 'display_data';\n",
              "        await google.colab.output.renderOutput(dataTable, element);\n",
              "        const docLink = document.createElement('div');\n",
              "        docLink.innerHTML = docLinkHtml;\n",
              "        element.appendChild(docLink);\n",
              "      }\n",
              "    </script>\n",
              "  </div>\n",
              "\n",
              "\n",
              "    <div id=\"df-d297008f-b6e9-4421-a8ed-82df86f6929c\">\n",
              "      <button class=\"colab-df-quickchart\" onclick=\"quickchart('df-d297008f-b6e9-4421-a8ed-82df86f6929c')\"\n",
              "                title=\"Suggest charts\"\n",
              "                style=\"display:none;\">\n",
              "\n",
              "<svg xmlns=\"http://www.w3.org/2000/svg\" height=\"24px\"viewBox=\"0 0 24 24\"\n",
              "     width=\"24px\">\n",
              "    <g>\n",
              "        <path d=\"M19 3H5c-1.1 0-2 .9-2 2v14c0 1.1.9 2 2 2h14c1.1 0 2-.9 2-2V5c0-1.1-.9-2-2-2zM9 17H7v-7h2v7zm4 0h-2V7h2v10zm4 0h-2v-4h2v4z\"/>\n",
              "    </g>\n",
              "</svg>\n",
              "      </button>\n",
              "\n",
              "<style>\n",
              "  .colab-df-quickchart {\n",
              "      --bg-color: #E8F0FE;\n",
              "      --fill-color: #1967D2;\n",
              "      --hover-bg-color: #E2EBFA;\n",
              "      --hover-fill-color: #174EA6;\n",
              "      --disabled-fill-color: #AAA;\n",
              "      --disabled-bg-color: #DDD;\n",
              "  }\n",
              "\n",
              "  [theme=dark] .colab-df-quickchart {\n",
              "      --bg-color: #3B4455;\n",
              "      --fill-color: #D2E3FC;\n",
              "      --hover-bg-color: #434B5C;\n",
              "      --hover-fill-color: #FFFFFF;\n",
              "      --disabled-bg-color: #3B4455;\n",
              "      --disabled-fill-color: #666;\n",
              "  }\n",
              "\n",
              "  .colab-df-quickchart {\n",
              "    background-color: var(--bg-color);\n",
              "    border: none;\n",
              "    border-radius: 50%;\n",
              "    cursor: pointer;\n",
              "    display: none;\n",
              "    fill: var(--fill-color);\n",
              "    height: 32px;\n",
              "    padding: 0;\n",
              "    width: 32px;\n",
              "  }\n",
              "\n",
              "  .colab-df-quickchart:hover {\n",
              "    background-color: var(--hover-bg-color);\n",
              "    box-shadow: 0 1px 2px rgba(60, 64, 67, 0.3), 0 1px 3px 1px rgba(60, 64, 67, 0.15);\n",
              "    fill: var(--button-hover-fill-color);\n",
              "  }\n",
              "\n",
              "  .colab-df-quickchart-complete:disabled,\n",
              "  .colab-df-quickchart-complete:disabled:hover {\n",
              "    background-color: var(--disabled-bg-color);\n",
              "    fill: var(--disabled-fill-color);\n",
              "    box-shadow: none;\n",
              "  }\n",
              "\n",
              "  .colab-df-spinner {\n",
              "    border: 2px solid var(--fill-color);\n",
              "    border-color: transparent;\n",
              "    border-bottom-color: var(--fill-color);\n",
              "    animation:\n",
              "      spin 1s steps(1) infinite;\n",
              "  }\n",
              "\n",
              "  @keyframes spin {\n",
              "    0% {\n",
              "      border-color: transparent;\n",
              "      border-bottom-color: var(--fill-color);\n",
              "      border-left-color: var(--fill-color);\n",
              "    }\n",
              "    20% {\n",
              "      border-color: transparent;\n",
              "      border-left-color: var(--fill-color);\n",
              "      border-top-color: var(--fill-color);\n",
              "    }\n",
              "    30% {\n",
              "      border-color: transparent;\n",
              "      border-left-color: var(--fill-color);\n",
              "      border-top-color: var(--fill-color);\n",
              "      border-right-color: var(--fill-color);\n",
              "    }\n",
              "    40% {\n",
              "      border-color: transparent;\n",
              "      border-right-color: var(--fill-color);\n",
              "      border-top-color: var(--fill-color);\n",
              "    }\n",
              "    60% {\n",
              "      border-color: transparent;\n",
              "      border-right-color: var(--fill-color);\n",
              "    }\n",
              "    80% {\n",
              "      border-color: transparent;\n",
              "      border-right-color: var(--fill-color);\n",
              "      border-bottom-color: var(--fill-color);\n",
              "    }\n",
              "    90% {\n",
              "      border-color: transparent;\n",
              "      border-bottom-color: var(--fill-color);\n",
              "    }\n",
              "  }\n",
              "</style>\n",
              "\n",
              "      <script>\n",
              "        async function quickchart(key) {\n",
              "          const quickchartButtonEl =\n",
              "            document.querySelector('#' + key + ' button');\n",
              "          quickchartButtonEl.disabled = true;  // To prevent multiple clicks.\n",
              "          quickchartButtonEl.classList.add('colab-df-spinner');\n",
              "          try {\n",
              "            const charts = await google.colab.kernel.invokeFunction(\n",
              "                'suggestCharts', [key], {});\n",
              "          } catch (error) {\n",
              "            console.error('Error during call to suggestCharts:', error);\n",
              "          }\n",
              "          quickchartButtonEl.classList.remove('colab-df-spinner');\n",
              "          quickchartButtonEl.classList.add('colab-df-quickchart-complete');\n",
              "        }\n",
              "        (() => {\n",
              "          let quickchartButtonEl =\n",
              "            document.querySelector('#df-d297008f-b6e9-4421-a8ed-82df86f6929c button');\n",
              "          quickchartButtonEl.style.display =\n",
              "            google.colab.kernel.accessAllowed ? 'block' : 'none';\n",
              "        })();\n",
              "      </script>\n",
              "    </div>\n",
              "\n",
              "    </div>\n",
              "  </div>\n"
            ],
            "application/vnd.google.colaboratory.intrinsic+json": {
              "type": "dataframe",
              "variable_name": "df_brute",
              "summary": "{\n  \"name\": \"df_brute\",\n  \"rows\": 11958,\n  \"fields\": [\n    {\n      \"column\": \"geonameid\",\n      \"properties\": {\n        \"dtype\": \"number\",\n        \"std\": 3079831,\n        \"min\": 2282318,\n        \"max\": 13494832,\n        \"num_unique_values\": 11958,\n        \"samples\": [\n          2356747,\n          2569958,\n          2361601\n        ],\n        \"semantic_type\": \"\",\n        \"description\": \"\"\n      }\n    },\n    {\n      \"column\": \"name\",\n      \"properties\": {\n        \"dtype\": \"string\",\n        \"num_unique_values\": 10274,\n        \"samples\": [\n          \"Bilbalgo\",\n          \"Boss\\u00e8y-Barab\\u00e9\",\n          \"Niagassi\"\n        ],\n        \"semantic_type\": \"\",\n        \"description\": \"\"\n      }\n    },\n    {\n      \"column\": \"latitude\",\n      \"properties\": {\n        \"dtype\": \"number\",\n        \"std\": 1.1650581442230903,\n        \"min\": 5.21609,\n        \"max\": 15.07767,\n        \"num_unique_values\": 7309,\n        \"samples\": [\n          10.859,\n          13.34038,\n          11.88495\n        ],\n        \"semantic_type\": \"\",\n        \"description\": \"\"\n      }\n    },\n    {\n      \"column\": \"longitude\",\n      \"properties\": {\n        \"dtype\": \"number\",\n        \"std\": 1.6055532967065265,\n        \"min\": -5.65968,\n        \"max\": 2.52259,\n        \"num_unique_values\": 7483,\n        \"samples\": [\n          -4.1401,\n          1.79233,\n          -1.39613\n        ],\n        \"semantic_type\": \"\",\n        \"description\": \"\"\n      }\n    }\n  ]\n}"
            }
          },
          "metadata": {},
          "execution_count": 31
        }
      ]
    },
    {
      "cell_type": "code",
      "source": [
        "# Renommage des colonnes désirées\n",
        "nom_nouveau_colonnes = {\n",
        "    'geonameid': 'ID',\n",
        "    'name': 'location_name',\n",
        "    'latitude': 'lat',\n",
        "    'longitude': 'long'\n",
        "}\n"
      ],
      "metadata": {
        "id": "FLmpfZgF2GJc"
      },
      "execution_count": 32,
      "outputs": []
    },
    {
      "cell_type": "code",
      "source": [
        "# nouveau dataframe avec les colonnes renommées\n",
        "df_burkina = df_brute.rename(columns=nom_nouveau_colonnes)"
      ],
      "metadata": {
        "id": "gzxpWE842WFp"
      },
      "execution_count": 33,
      "outputs": []
    },
    {
      "cell_type": "code",
      "source": [
        "# visualisation des premières lignes\n",
        "df_burkina.head()"
      ],
      "metadata": {
        "colab": {
          "base_uri": "https://localhost:8080/",
          "height": 206
        },
        "id": "3Gc0uA3m2hkR",
        "outputId": "2bf82268-18fe-458b-fcee-4a709623c452"
      },
      "execution_count": 34,
      "outputs": [
        {
          "output_type": "execute_result",
          "data": {
            "text/plain": [
              "        ID       location_name       lat     long\n",
              "0  2282318              Pouéné   9.72908 -2.78660\n",
              "1  2285251  Léraba Occidentale  10.28333 -5.11667\n",
              "2  2287216           Kéléouoro   9.80748 -4.05023\n",
              "3  2294066         White Volta   8.70194 -0.99056\n",
              "4  2298457        Issana Bouga  10.91667 -1.18333"
            ],
            "text/html": [
              "\n",
              "  <div id=\"df-86452cde-40a3-4983-bbc2-c6800d5f9aa0\" class=\"colab-df-container\">\n",
              "    <div>\n",
              "<style scoped>\n",
              "    .dataframe tbody tr th:only-of-type {\n",
              "        vertical-align: middle;\n",
              "    }\n",
              "\n",
              "    .dataframe tbody tr th {\n",
              "        vertical-align: top;\n",
              "    }\n",
              "\n",
              "    .dataframe thead th {\n",
              "        text-align: right;\n",
              "    }\n",
              "</style>\n",
              "<table border=\"1\" class=\"dataframe\">\n",
              "  <thead>\n",
              "    <tr style=\"text-align: right;\">\n",
              "      <th></th>\n",
              "      <th>ID</th>\n",
              "      <th>location_name</th>\n",
              "      <th>lat</th>\n",
              "      <th>long</th>\n",
              "    </tr>\n",
              "  </thead>\n",
              "  <tbody>\n",
              "    <tr>\n",
              "      <th>0</th>\n",
              "      <td>2282318</td>\n",
              "      <td>Pouéné</td>\n",
              "      <td>9.72908</td>\n",
              "      <td>-2.78660</td>\n",
              "    </tr>\n",
              "    <tr>\n",
              "      <th>1</th>\n",
              "      <td>2285251</td>\n",
              "      <td>Léraba Occidentale</td>\n",
              "      <td>10.28333</td>\n",
              "      <td>-5.11667</td>\n",
              "    </tr>\n",
              "    <tr>\n",
              "      <th>2</th>\n",
              "      <td>2287216</td>\n",
              "      <td>Kéléouoro</td>\n",
              "      <td>9.80748</td>\n",
              "      <td>-4.05023</td>\n",
              "    </tr>\n",
              "    <tr>\n",
              "      <th>3</th>\n",
              "      <td>2294066</td>\n",
              "      <td>White Volta</td>\n",
              "      <td>8.70194</td>\n",
              "      <td>-0.99056</td>\n",
              "    </tr>\n",
              "    <tr>\n",
              "      <th>4</th>\n",
              "      <td>2298457</td>\n",
              "      <td>Issana Bouga</td>\n",
              "      <td>10.91667</td>\n",
              "      <td>-1.18333</td>\n",
              "    </tr>\n",
              "  </tbody>\n",
              "</table>\n",
              "</div>\n",
              "    <div class=\"colab-df-buttons\">\n",
              "\n",
              "  <div class=\"colab-df-container\">\n",
              "    <button class=\"colab-df-convert\" onclick=\"convertToInteractive('df-86452cde-40a3-4983-bbc2-c6800d5f9aa0')\"\n",
              "            title=\"Convert this dataframe to an interactive table.\"\n",
              "            style=\"display:none;\">\n",
              "\n",
              "  <svg xmlns=\"http://www.w3.org/2000/svg\" height=\"24px\" viewBox=\"0 -960 960 960\">\n",
              "    <path d=\"M120-120v-720h720v720H120Zm60-500h600v-160H180v160Zm220 220h160v-160H400v160Zm0 220h160v-160H400v160ZM180-400h160v-160H180v160Zm440 0h160v-160H620v160ZM180-180h160v-160H180v160Zm440 0h160v-160H620v160Z\"/>\n",
              "  </svg>\n",
              "    </button>\n",
              "\n",
              "  <style>\n",
              "    .colab-df-container {\n",
              "      display:flex;\n",
              "      gap: 12px;\n",
              "    }\n",
              "\n",
              "    .colab-df-convert {\n",
              "      background-color: #E8F0FE;\n",
              "      border: none;\n",
              "      border-radius: 50%;\n",
              "      cursor: pointer;\n",
              "      display: none;\n",
              "      fill: #1967D2;\n",
              "      height: 32px;\n",
              "      padding: 0 0 0 0;\n",
              "      width: 32px;\n",
              "    }\n",
              "\n",
              "    .colab-df-convert:hover {\n",
              "      background-color: #E2EBFA;\n",
              "      box-shadow: 0px 1px 2px rgba(60, 64, 67, 0.3), 0px 1px 3px 1px rgba(60, 64, 67, 0.15);\n",
              "      fill: #174EA6;\n",
              "    }\n",
              "\n",
              "    .colab-df-buttons div {\n",
              "      margin-bottom: 4px;\n",
              "    }\n",
              "\n",
              "    [theme=dark] .colab-df-convert {\n",
              "      background-color: #3B4455;\n",
              "      fill: #D2E3FC;\n",
              "    }\n",
              "\n",
              "    [theme=dark] .colab-df-convert:hover {\n",
              "      background-color: #434B5C;\n",
              "      box-shadow: 0px 1px 3px 1px rgba(0, 0, 0, 0.15);\n",
              "      filter: drop-shadow(0px 1px 2px rgba(0, 0, 0, 0.3));\n",
              "      fill: #FFFFFF;\n",
              "    }\n",
              "  </style>\n",
              "\n",
              "    <script>\n",
              "      const buttonEl =\n",
              "        document.querySelector('#df-86452cde-40a3-4983-bbc2-c6800d5f9aa0 button.colab-df-convert');\n",
              "      buttonEl.style.display =\n",
              "        google.colab.kernel.accessAllowed ? 'block' : 'none';\n",
              "\n",
              "      async function convertToInteractive(key) {\n",
              "        const element = document.querySelector('#df-86452cde-40a3-4983-bbc2-c6800d5f9aa0');\n",
              "        const dataTable =\n",
              "          await google.colab.kernel.invokeFunction('convertToInteractive',\n",
              "                                                    [key], {});\n",
              "        if (!dataTable) return;\n",
              "\n",
              "        const docLinkHtml = 'Like what you see? Visit the ' +\n",
              "          '<a target=\"_blank\" href=https://colab.research.google.com/notebooks/data_table.ipynb>data table notebook</a>'\n",
              "          + ' to learn more about interactive tables.';\n",
              "        element.innerHTML = '';\n",
              "        dataTable['output_type'] = 'display_data';\n",
              "        await google.colab.output.renderOutput(dataTable, element);\n",
              "        const docLink = document.createElement('div');\n",
              "        docLink.innerHTML = docLinkHtml;\n",
              "        element.appendChild(docLink);\n",
              "      }\n",
              "    </script>\n",
              "  </div>\n",
              "\n",
              "\n",
              "    <div id=\"df-377ddd2c-61b7-4e21-81f6-e79dbef82b35\">\n",
              "      <button class=\"colab-df-quickchart\" onclick=\"quickchart('df-377ddd2c-61b7-4e21-81f6-e79dbef82b35')\"\n",
              "                title=\"Suggest charts\"\n",
              "                style=\"display:none;\">\n",
              "\n",
              "<svg xmlns=\"http://www.w3.org/2000/svg\" height=\"24px\"viewBox=\"0 0 24 24\"\n",
              "     width=\"24px\">\n",
              "    <g>\n",
              "        <path d=\"M19 3H5c-1.1 0-2 .9-2 2v14c0 1.1.9 2 2 2h14c1.1 0 2-.9 2-2V5c0-1.1-.9-2-2-2zM9 17H7v-7h2v7zm4 0h-2V7h2v10zm4 0h-2v-4h2v4z\"/>\n",
              "    </g>\n",
              "</svg>\n",
              "      </button>\n",
              "\n",
              "<style>\n",
              "  .colab-df-quickchart {\n",
              "      --bg-color: #E8F0FE;\n",
              "      --fill-color: #1967D2;\n",
              "      --hover-bg-color: #E2EBFA;\n",
              "      --hover-fill-color: #174EA6;\n",
              "      --disabled-fill-color: #AAA;\n",
              "      --disabled-bg-color: #DDD;\n",
              "  }\n",
              "\n",
              "  [theme=dark] .colab-df-quickchart {\n",
              "      --bg-color: #3B4455;\n",
              "      --fill-color: #D2E3FC;\n",
              "      --hover-bg-color: #434B5C;\n",
              "      --hover-fill-color: #FFFFFF;\n",
              "      --disabled-bg-color: #3B4455;\n",
              "      --disabled-fill-color: #666;\n",
              "  }\n",
              "\n",
              "  .colab-df-quickchart {\n",
              "    background-color: var(--bg-color);\n",
              "    border: none;\n",
              "    border-radius: 50%;\n",
              "    cursor: pointer;\n",
              "    display: none;\n",
              "    fill: var(--fill-color);\n",
              "    height: 32px;\n",
              "    padding: 0;\n",
              "    width: 32px;\n",
              "  }\n",
              "\n",
              "  .colab-df-quickchart:hover {\n",
              "    background-color: var(--hover-bg-color);\n",
              "    box-shadow: 0 1px 2px rgba(60, 64, 67, 0.3), 0 1px 3px 1px rgba(60, 64, 67, 0.15);\n",
              "    fill: var(--button-hover-fill-color);\n",
              "  }\n",
              "\n",
              "  .colab-df-quickchart-complete:disabled,\n",
              "  .colab-df-quickchart-complete:disabled:hover {\n",
              "    background-color: var(--disabled-bg-color);\n",
              "    fill: var(--disabled-fill-color);\n",
              "    box-shadow: none;\n",
              "  }\n",
              "\n",
              "  .colab-df-spinner {\n",
              "    border: 2px solid var(--fill-color);\n",
              "    border-color: transparent;\n",
              "    border-bottom-color: var(--fill-color);\n",
              "    animation:\n",
              "      spin 1s steps(1) infinite;\n",
              "  }\n",
              "\n",
              "  @keyframes spin {\n",
              "    0% {\n",
              "      border-color: transparent;\n",
              "      border-bottom-color: var(--fill-color);\n",
              "      border-left-color: var(--fill-color);\n",
              "    }\n",
              "    20% {\n",
              "      border-color: transparent;\n",
              "      border-left-color: var(--fill-color);\n",
              "      border-top-color: var(--fill-color);\n",
              "    }\n",
              "    30% {\n",
              "      border-color: transparent;\n",
              "      border-left-color: var(--fill-color);\n",
              "      border-top-color: var(--fill-color);\n",
              "      border-right-color: var(--fill-color);\n",
              "    }\n",
              "    40% {\n",
              "      border-color: transparent;\n",
              "      border-right-color: var(--fill-color);\n",
              "      border-top-color: var(--fill-color);\n",
              "    }\n",
              "    60% {\n",
              "      border-color: transparent;\n",
              "      border-right-color: var(--fill-color);\n",
              "    }\n",
              "    80% {\n",
              "      border-color: transparent;\n",
              "      border-right-color: var(--fill-color);\n",
              "      border-bottom-color: var(--fill-color);\n",
              "    }\n",
              "    90% {\n",
              "      border-color: transparent;\n",
              "      border-bottom-color: var(--fill-color);\n",
              "    }\n",
              "  }\n",
              "</style>\n",
              "\n",
              "      <script>\n",
              "        async function quickchart(key) {\n",
              "          const quickchartButtonEl =\n",
              "            document.querySelector('#' + key + ' button');\n",
              "          quickchartButtonEl.disabled = true;  // To prevent multiple clicks.\n",
              "          quickchartButtonEl.classList.add('colab-df-spinner');\n",
              "          try {\n",
              "            const charts = await google.colab.kernel.invokeFunction(\n",
              "                'suggestCharts', [key], {});\n",
              "          } catch (error) {\n",
              "            console.error('Error during call to suggestCharts:', error);\n",
              "          }\n",
              "          quickchartButtonEl.classList.remove('colab-df-spinner');\n",
              "          quickchartButtonEl.classList.add('colab-df-quickchart-complete');\n",
              "        }\n",
              "        (() => {\n",
              "          let quickchartButtonEl =\n",
              "            document.querySelector('#df-377ddd2c-61b7-4e21-81f6-e79dbef82b35 button');\n",
              "          quickchartButtonEl.style.display =\n",
              "            google.colab.kernel.accessAllowed ? 'block' : 'none';\n",
              "        })();\n",
              "      </script>\n",
              "    </div>\n",
              "\n",
              "    </div>\n",
              "  </div>\n"
            ],
            "application/vnd.google.colaboratory.intrinsic+json": {
              "type": "dataframe",
              "variable_name": "df_burkina",
              "summary": "{\n  \"name\": \"df_burkina\",\n  \"rows\": 11958,\n  \"fields\": [\n    {\n      \"column\": \"ID\",\n      \"properties\": {\n        \"dtype\": \"number\",\n        \"std\": 3079831,\n        \"min\": 2282318,\n        \"max\": 13494832,\n        \"num_unique_values\": 11958,\n        \"samples\": [\n          2356747,\n          2569958,\n          2361601\n        ],\n        \"semantic_type\": \"\",\n        \"description\": \"\"\n      }\n    },\n    {\n      \"column\": \"location_name\",\n      \"properties\": {\n        \"dtype\": \"string\",\n        \"num_unique_values\": 10274,\n        \"samples\": [\n          \"Bilbalgo\",\n          \"Boss\\u00e8y-Barab\\u00e9\",\n          \"Niagassi\"\n        ],\n        \"semantic_type\": \"\",\n        \"description\": \"\"\n      }\n    },\n    {\n      \"column\": \"lat\",\n      \"properties\": {\n        \"dtype\": \"number\",\n        \"std\": 1.1650581442230903,\n        \"min\": 5.21609,\n        \"max\": 15.07767,\n        \"num_unique_values\": 7309,\n        \"samples\": [\n          10.859,\n          13.34038,\n          11.88495\n        ],\n        \"semantic_type\": \"\",\n        \"description\": \"\"\n      }\n    },\n    {\n      \"column\": \"long\",\n      \"properties\": {\n        \"dtype\": \"number\",\n        \"std\": 1.6055532967065265,\n        \"min\": -5.65968,\n        \"max\": 2.52259,\n        \"num_unique_values\": 7483,\n        \"samples\": [\n          -4.1401,\n          1.79233,\n          -1.39613\n        ],\n        \"semantic_type\": \"\",\n        \"description\": \"\"\n      }\n    }\n  ]\n}"
            }
          },
          "metadata": {},
          "execution_count": 34
        }
      ]
    },
    {
      "cell_type": "code",
      "source": [
        "# Sauvegarder les données dans un nouveau fichier CSV\n",
        "chemin_sortie = \"/content/drive/MyDrive/Data/burkina_location.csv\"\n",
        "df_burkina.to_csv(chemin_sortie, index=False)\n"
      ],
      "metadata": {
        "id": "8IPjVqf421Rs"
      },
      "execution_count": 35,
      "outputs": []
    },
    {
      "cell_type": "markdown",
      "source": [
        "Extraction des données contenant le nom 'gounghin'"
      ],
      "metadata": {
        "id": "EfEU6cnrfP_F"
      }
    },
    {
      "cell_type": "code",
      "source": [
        "# Charger le fichier burkina_location.csv\n",
        "df_burkina_lieux = pd.read_csv(\"/content/drive/MyDrive/Data/burkina_location.csv\")"
      ],
      "metadata": {
        "id": "BhZmocjYfR5w"
      },
      "execution_count": 36,
      "outputs": []
    },
    {
      "cell_type": "code",
      "source": [
        "# Filtrage les lignes où le nom du lieu contient 'gounghin' avec la méthode .str.contains()\n",
        "df_gounghin = df_burkina_lieux[df_burkina_lieux['location_name'].str.contains('gounghin', case=False, na=False)]\n"
      ],
      "metadata": {
        "id": "ili3GhMIgCMk"
      },
      "execution_count": 38,
      "outputs": []
    },
    {
      "cell_type": "code",
      "source": [
        "# Affichage du resultat de filtrage des lieux dont le nom contient goughin\n",
        "print(\"\\nLieux contenant 'gounghin' :\")\n",
        "print(df_gounghin)"
      ],
      "metadata": {
        "colab": {
          "base_uri": "https://localhost:8080/"
        },
        "id": "JIV8hDlcgT1X",
        "outputId": "36c9a5c5-4ecf-40b5-899c-d7e882976b0f"
      },
      "execution_count": 39,
      "outputs": [
        {
          "output_type": "stream",
          "name": "stdout",
          "text": [
            "\n",
            "Lieux contenant 'gounghin' :\n",
            "             ID                  location_name       lat     long\n",
            "153     2353306                       Gounghin  12.06677 -1.42134\n",
            "7269    2360473                       Gounghin  12.62488 -1.36398\n",
            "10260   2570204                       Gounghin  12.31436 -1.37900\n",
            "10746  10342749                       Gounghin  12.06667 -0.15000\n",
            "10759  10629032             BICIAB // Gounghin  12.35921 -1.54273\n",
            "10818  11257296            Gounghin Department  12.06671 -0.15484\n",
            "10845  11900526                  Gounghin Nord  12.36120 -1.55055\n",
            "10846  11900528  Zone Industrielle de Gounghin  12.36631 -1.54137\n",
            "10852  11900619                   Gounghin Sud  12.35298 -1.54342\n",
            "10866  11900680                       Gounghin  12.35895 -1.54442\n"
          ]
        }
      ]
    },
    {
      "cell_type": "code",
      "source": [
        "# Sauvegarde dans un nouveau fichier CSV nommé goughin.csv\n",
        "df_gounghin.to_csv(\"/content/drive/MyDrive/Data/gounghin.csv\", index=False)\n",
        "print(\"\\nDonnées de 'gounghin' sauvegardées dans 'gounghin.csv'.\")"
      ],
      "metadata": {
        "colab": {
          "base_uri": "https://localhost:8080/"
        },
        "id": "4FWYEyG8gfC_",
        "outputId": "cd4385aa-5b91-4ec7-f29d-6e9aebe65275"
      },
      "execution_count": 40,
      "outputs": [
        {
          "output_type": "stream",
          "name": "stdout",
          "text": [
            "\n",
            "Données de 'gounghin' sauvegardées dans 'gounghin.csv'.\n"
          ]
        }
      ]
    },
    {
      "cell_type": "markdown",
      "source": [
        "\n",
        "Extraction des noms de lieux entre 'A' et 'P'"
      ],
      "metadata": {
        "id": "7EvhJDK0COV5"
      }
    },
    {
      "cell_type": "code",
      "source": [
        "# Filtrage des noms de lieux qui commencent par une lettre de 'A' à 'P' avec la méthode .str.startswith() avec une regex\n",
        "df_Burkina_A_P = df_burkina_lieux[\n",
        "    (df_burkina_lieux['location_name'].str[0] >= 'A') &\n",
        "    (df_burkina_lieux['location_name'].str[0] <= 'P')\n",
        "]\n"
      ],
      "metadata": {
        "id": "D4QyDq0H4Dw3"
      },
      "execution_count": 41,
      "outputs": []
    },
    {
      "cell_type": "code",
      "source": [
        "# Affichage du resultat de filtrage\n",
        "df_Burkina_A_P.head()"
      ],
      "metadata": {
        "colab": {
          "base_uri": "https://localhost:8080/",
          "height": 206
        },
        "id": "C3CAydr5Ckm_",
        "outputId": "5fac8109-b18e-4fa6-9ad2-1c46f17b2ca8"
      },
      "execution_count": 42,
      "outputs": [
        {
          "output_type": "execute_result",
          "data": {
            "text/plain": [
              "          ID          location_name       lat     long\n",
              "0    2282318                 Pouéné   9.72908 -2.78660\n",
              "1    2285251     Léraba Occidentale  10.28333 -5.11667\n",
              "2    2287216              Kéléouoro   9.80748 -4.05023\n",
              "4    2298457           Issana Bouga  10.91667 -1.18333\n",
              "137  2353290  Forêt Classée de Ziga  12.47106 -1.08644"
            ],
            "text/html": [
              "\n",
              "  <div id=\"df-a135658c-6b54-49c8-94b2-a0b0d33807c8\" class=\"colab-df-container\">\n",
              "    <div>\n",
              "<style scoped>\n",
              "    .dataframe tbody tr th:only-of-type {\n",
              "        vertical-align: middle;\n",
              "    }\n",
              "\n",
              "    .dataframe tbody tr th {\n",
              "        vertical-align: top;\n",
              "    }\n",
              "\n",
              "    .dataframe thead th {\n",
              "        text-align: right;\n",
              "    }\n",
              "</style>\n",
              "<table border=\"1\" class=\"dataframe\">\n",
              "  <thead>\n",
              "    <tr style=\"text-align: right;\">\n",
              "      <th></th>\n",
              "      <th>ID</th>\n",
              "      <th>location_name</th>\n",
              "      <th>lat</th>\n",
              "      <th>long</th>\n",
              "    </tr>\n",
              "  </thead>\n",
              "  <tbody>\n",
              "    <tr>\n",
              "      <th>0</th>\n",
              "      <td>2282318</td>\n",
              "      <td>Pouéné</td>\n",
              "      <td>9.72908</td>\n",
              "      <td>-2.78660</td>\n",
              "    </tr>\n",
              "    <tr>\n",
              "      <th>1</th>\n",
              "      <td>2285251</td>\n",
              "      <td>Léraba Occidentale</td>\n",
              "      <td>10.28333</td>\n",
              "      <td>-5.11667</td>\n",
              "    </tr>\n",
              "    <tr>\n",
              "      <th>2</th>\n",
              "      <td>2287216</td>\n",
              "      <td>Kéléouoro</td>\n",
              "      <td>9.80748</td>\n",
              "      <td>-4.05023</td>\n",
              "    </tr>\n",
              "    <tr>\n",
              "      <th>4</th>\n",
              "      <td>2298457</td>\n",
              "      <td>Issana Bouga</td>\n",
              "      <td>10.91667</td>\n",
              "      <td>-1.18333</td>\n",
              "    </tr>\n",
              "    <tr>\n",
              "      <th>137</th>\n",
              "      <td>2353290</td>\n",
              "      <td>Forêt Classée de Ziga</td>\n",
              "      <td>12.47106</td>\n",
              "      <td>-1.08644</td>\n",
              "    </tr>\n",
              "  </tbody>\n",
              "</table>\n",
              "</div>\n",
              "    <div class=\"colab-df-buttons\">\n",
              "\n",
              "  <div class=\"colab-df-container\">\n",
              "    <button class=\"colab-df-convert\" onclick=\"convertToInteractive('df-a135658c-6b54-49c8-94b2-a0b0d33807c8')\"\n",
              "            title=\"Convert this dataframe to an interactive table.\"\n",
              "            style=\"display:none;\">\n",
              "\n",
              "  <svg xmlns=\"http://www.w3.org/2000/svg\" height=\"24px\" viewBox=\"0 -960 960 960\">\n",
              "    <path d=\"M120-120v-720h720v720H120Zm60-500h600v-160H180v160Zm220 220h160v-160H400v160Zm0 220h160v-160H400v160ZM180-400h160v-160H180v160Zm440 0h160v-160H620v160ZM180-180h160v-160H180v160Zm440 0h160v-160H620v160Z\"/>\n",
              "  </svg>\n",
              "    </button>\n",
              "\n",
              "  <style>\n",
              "    .colab-df-container {\n",
              "      display:flex;\n",
              "      gap: 12px;\n",
              "    }\n",
              "\n",
              "    .colab-df-convert {\n",
              "      background-color: #E8F0FE;\n",
              "      border: none;\n",
              "      border-radius: 50%;\n",
              "      cursor: pointer;\n",
              "      display: none;\n",
              "      fill: #1967D2;\n",
              "      height: 32px;\n",
              "      padding: 0 0 0 0;\n",
              "      width: 32px;\n",
              "    }\n",
              "\n",
              "    .colab-df-convert:hover {\n",
              "      background-color: #E2EBFA;\n",
              "      box-shadow: 0px 1px 2px rgba(60, 64, 67, 0.3), 0px 1px 3px 1px rgba(60, 64, 67, 0.15);\n",
              "      fill: #174EA6;\n",
              "    }\n",
              "\n",
              "    .colab-df-buttons div {\n",
              "      margin-bottom: 4px;\n",
              "    }\n",
              "\n",
              "    [theme=dark] .colab-df-convert {\n",
              "      background-color: #3B4455;\n",
              "      fill: #D2E3FC;\n",
              "    }\n",
              "\n",
              "    [theme=dark] .colab-df-convert:hover {\n",
              "      background-color: #434B5C;\n",
              "      box-shadow: 0px 1px 3px 1px rgba(0, 0, 0, 0.15);\n",
              "      filter: drop-shadow(0px 1px 2px rgba(0, 0, 0, 0.3));\n",
              "      fill: #FFFFFF;\n",
              "    }\n",
              "  </style>\n",
              "\n",
              "    <script>\n",
              "      const buttonEl =\n",
              "        document.querySelector('#df-a135658c-6b54-49c8-94b2-a0b0d33807c8 button.colab-df-convert');\n",
              "      buttonEl.style.display =\n",
              "        google.colab.kernel.accessAllowed ? 'block' : 'none';\n",
              "\n",
              "      async function convertToInteractive(key) {\n",
              "        const element = document.querySelector('#df-a135658c-6b54-49c8-94b2-a0b0d33807c8');\n",
              "        const dataTable =\n",
              "          await google.colab.kernel.invokeFunction('convertToInteractive',\n",
              "                                                    [key], {});\n",
              "        if (!dataTable) return;\n",
              "\n",
              "        const docLinkHtml = 'Like what you see? Visit the ' +\n",
              "          '<a target=\"_blank\" href=https://colab.research.google.com/notebooks/data_table.ipynb>data table notebook</a>'\n",
              "          + ' to learn more about interactive tables.';\n",
              "        element.innerHTML = '';\n",
              "        dataTable['output_type'] = 'display_data';\n",
              "        await google.colab.output.renderOutput(dataTable, element);\n",
              "        const docLink = document.createElement('div');\n",
              "        docLink.innerHTML = docLinkHtml;\n",
              "        element.appendChild(docLink);\n",
              "      }\n",
              "    </script>\n",
              "  </div>\n",
              "\n",
              "\n",
              "    <div id=\"df-913a3cc9-90f8-4581-b145-eec490700ae2\">\n",
              "      <button class=\"colab-df-quickchart\" onclick=\"quickchart('df-913a3cc9-90f8-4581-b145-eec490700ae2')\"\n",
              "                title=\"Suggest charts\"\n",
              "                style=\"display:none;\">\n",
              "\n",
              "<svg xmlns=\"http://www.w3.org/2000/svg\" height=\"24px\"viewBox=\"0 0 24 24\"\n",
              "     width=\"24px\">\n",
              "    <g>\n",
              "        <path d=\"M19 3H5c-1.1 0-2 .9-2 2v14c0 1.1.9 2 2 2h14c1.1 0 2-.9 2-2V5c0-1.1-.9-2-2-2zM9 17H7v-7h2v7zm4 0h-2V7h2v10zm4 0h-2v-4h2v4z\"/>\n",
              "    </g>\n",
              "</svg>\n",
              "      </button>\n",
              "\n",
              "<style>\n",
              "  .colab-df-quickchart {\n",
              "      --bg-color: #E8F0FE;\n",
              "      --fill-color: #1967D2;\n",
              "      --hover-bg-color: #E2EBFA;\n",
              "      --hover-fill-color: #174EA6;\n",
              "      --disabled-fill-color: #AAA;\n",
              "      --disabled-bg-color: #DDD;\n",
              "  }\n",
              "\n",
              "  [theme=dark] .colab-df-quickchart {\n",
              "      --bg-color: #3B4455;\n",
              "      --fill-color: #D2E3FC;\n",
              "      --hover-bg-color: #434B5C;\n",
              "      --hover-fill-color: #FFFFFF;\n",
              "      --disabled-bg-color: #3B4455;\n",
              "      --disabled-fill-color: #666;\n",
              "  }\n",
              "\n",
              "  .colab-df-quickchart {\n",
              "    background-color: var(--bg-color);\n",
              "    border: none;\n",
              "    border-radius: 50%;\n",
              "    cursor: pointer;\n",
              "    display: none;\n",
              "    fill: var(--fill-color);\n",
              "    height: 32px;\n",
              "    padding: 0;\n",
              "    width: 32px;\n",
              "  }\n",
              "\n",
              "  .colab-df-quickchart:hover {\n",
              "    background-color: var(--hover-bg-color);\n",
              "    box-shadow: 0 1px 2px rgba(60, 64, 67, 0.3), 0 1px 3px 1px rgba(60, 64, 67, 0.15);\n",
              "    fill: var(--button-hover-fill-color);\n",
              "  }\n",
              "\n",
              "  .colab-df-quickchart-complete:disabled,\n",
              "  .colab-df-quickchart-complete:disabled:hover {\n",
              "    background-color: var(--disabled-bg-color);\n",
              "    fill: var(--disabled-fill-color);\n",
              "    box-shadow: none;\n",
              "  }\n",
              "\n",
              "  .colab-df-spinner {\n",
              "    border: 2px solid var(--fill-color);\n",
              "    border-color: transparent;\n",
              "    border-bottom-color: var(--fill-color);\n",
              "    animation:\n",
              "      spin 1s steps(1) infinite;\n",
              "  }\n",
              "\n",
              "  @keyframes spin {\n",
              "    0% {\n",
              "      border-color: transparent;\n",
              "      border-bottom-color: var(--fill-color);\n",
              "      border-left-color: var(--fill-color);\n",
              "    }\n",
              "    20% {\n",
              "      border-color: transparent;\n",
              "      border-left-color: var(--fill-color);\n",
              "      border-top-color: var(--fill-color);\n",
              "    }\n",
              "    30% {\n",
              "      border-color: transparent;\n",
              "      border-left-color: var(--fill-color);\n",
              "      border-top-color: var(--fill-color);\n",
              "      border-right-color: var(--fill-color);\n",
              "    }\n",
              "    40% {\n",
              "      border-color: transparent;\n",
              "      border-right-color: var(--fill-color);\n",
              "      border-top-color: var(--fill-color);\n",
              "    }\n",
              "    60% {\n",
              "      border-color: transparent;\n",
              "      border-right-color: var(--fill-color);\n",
              "    }\n",
              "    80% {\n",
              "      border-color: transparent;\n",
              "      border-right-color: var(--fill-color);\n",
              "      border-bottom-color: var(--fill-color);\n",
              "    }\n",
              "    90% {\n",
              "      border-color: transparent;\n",
              "      border-bottom-color: var(--fill-color);\n",
              "    }\n",
              "  }\n",
              "</style>\n",
              "\n",
              "      <script>\n",
              "        async function quickchart(key) {\n",
              "          const quickchartButtonEl =\n",
              "            document.querySelector('#' + key + ' button');\n",
              "          quickchartButtonEl.disabled = true;  // To prevent multiple clicks.\n",
              "          quickchartButtonEl.classList.add('colab-df-spinner');\n",
              "          try {\n",
              "            const charts = await google.colab.kernel.invokeFunction(\n",
              "                'suggestCharts', [key], {});\n",
              "          } catch (error) {\n",
              "            console.error('Error during call to suggestCharts:', error);\n",
              "          }\n",
              "          quickchartButtonEl.classList.remove('colab-df-spinner');\n",
              "          quickchartButtonEl.classList.add('colab-df-quickchart-complete');\n",
              "        }\n",
              "        (() => {\n",
              "          let quickchartButtonEl =\n",
              "            document.querySelector('#df-913a3cc9-90f8-4581-b145-eec490700ae2 button');\n",
              "          quickchartButtonEl.style.display =\n",
              "            google.colab.kernel.accessAllowed ? 'block' : 'none';\n",
              "        })();\n",
              "      </script>\n",
              "    </div>\n",
              "\n",
              "    </div>\n",
              "  </div>\n"
            ],
            "application/vnd.google.colaboratory.intrinsic+json": {
              "type": "dataframe",
              "variable_name": "df_Burkina_A_P",
              "summary": "{\n  \"name\": \"df_Burkina_A_P\",\n  \"rows\": 8306,\n  \"fields\": [\n    {\n      \"column\": \"ID\",\n      \"properties\": {\n        \"dtype\": \"number\",\n        \"std\": 3112564,\n        \"min\": 2282318,\n        \"max\": 13494832,\n        \"num_unique_values\": 8306,\n        \"samples\": [\n          2360789,\n          2358363,\n          2570321\n        ],\n        \"semantic_type\": \"\",\n        \"description\": \"\"\n      }\n    },\n    {\n      \"column\": \"location_name\",\n      \"properties\": {\n        \"dtype\": \"string\",\n        \"num_unique_values\": 7224,\n        \"samples\": [\n          \"Massade-Yirikoro\",\n          \"Nabantiougou\",\n          \"Lonkankui\"\n        ],\n        \"semantic_type\": \"\",\n        \"description\": \"\"\n      }\n    },\n    {\n      \"column\": \"lat\",\n      \"properties\": {\n        \"dtype\": \"number\",\n        \"std\": 1.1899827643202707,\n        \"min\": 5.21609,\n        \"max\": 15.07767,\n        \"num_unique_values\": 5134,\n        \"samples\": [\n          12.07372,\n          12.6625,\n          13.50929\n        ],\n        \"semantic_type\": \"\",\n        \"description\": \"\"\n      }\n    },\n    {\n      \"column\": \"long\",\n      \"properties\": {\n        \"dtype\": \"number\",\n        \"std\": 1.6480406570224304,\n        \"min\": -5.65968,\n        \"max\": 2.44212,\n        \"num_unique_values\": 5300,\n        \"samples\": [\n          -0.09227,\n          0.69972,\n          -0.74704\n        ],\n        \"semantic_type\": \"\",\n        \"description\": \"\"\n      }\n    }\n  ]\n}"
            }
          },
          "metadata": {},
          "execution_count": 42
        }
      ]
    },
    {
      "cell_type": "code",
      "source": [
        "#Enregistrement dans un fichier csv nommée burkina_location_A_P.csv\n",
        "df_Burkina_A_P.to_csv(\"/content/drive/MyDrive/Data/burkina_location_A_P.csv\", index=False)"
      ],
      "metadata": {
        "id": "KcQownHsDB9e"
      },
      "execution_count": 43,
      "outputs": []
    },
    {
      "cell_type": "code",
      "source": [
        "# Identification de la latitude minimale et le lieu correspondant\n",
        "min_lat = df_burkina_lieux['lat'].min()\n",
        "min_lat_location = df_burkina_lieux[df_burkina_lieux['lat'] == min_lat]\n",
        "\n",
        "print(f\"\\nLa latitude minimale est : {min_lat}\")\n",
        "print(\"Lieu(x) correspondant(s) :\")\n",
        "print(min_lat_location)\n"
      ],
      "metadata": {
        "colab": {
          "base_uri": "https://localhost:8080/"
        },
        "id": "JOAavEoWDmuw",
        "outputId": "af629e87-1320-4a94-8be5-706f51b1e5d2"
      },
      "execution_count": 44,
      "outputs": [
        {
          "output_type": "stream",
          "name": "stdout",
          "text": [
            "\n",
            "La latitude minimale est : 5.21609\n",
            "Lieu(x) correspondant(s) :\n",
            "           ID location_name      lat     long\n",
            "6017  2359210         Komoé  5.21609 -3.71793\n"
          ]
        }
      ]
    },
    {
      "cell_type": "code",
      "source": [
        "# Identification de la longitude minimale et le lieu correspondant\n",
        "min_long = df_burkina_lieux['long'].min()\n",
        "min_long_location = df_burkina_lieux[df_burkina_lieux['long'] == min_long]\n",
        "\n",
        "print(f\"\\nLa longitude minimale est : {min_long}\")\n",
        "print(\"Lieu(x) correspondant(s) :\")\n",
        "print(min_long_location)\n"
      ],
      "metadata": {
        "colab": {
          "base_uri": "https://localhost:8080/"
        },
        "id": "1XuzXFjUEHAe",
        "outputId": "69b47a92-cc67-41b8-a642-4e3753225833"
      },
      "execution_count": 45,
      "outputs": [
        {
          "output_type": "stream",
          "name": "stdout",
          "text": [
            "\n",
            "La longitude minimale est : -5.65968\n",
            "Lieu(x) correspondant(s) :\n",
            "           ID location_name       lat     long\n",
            "4220  2357400      Banifing  12.01147 -5.65968\n"
          ]
        }
      ]
    },
    {
      "cell_type": "code",
      "source": [
        "# Filtrage des lieux dont les coordonnées sont comprises entre (lat >= 11 et lon <= 0.5)\n",
        "df_coordonnees_specifiques = df_burkina_lieux[\n",
        "    (df_burkina_lieux['lat'] >= 11) &\n",
        "    (df_burkina_lieux['long'] <= 0.5)\n",
        "]\n",
        "\n",
        "print(\"\\nLieux avec une latitude >= 11 et une longitude <= 0.5:\")\n",
        "print(df_coordonnees_specifiques.head())\n"
      ],
      "metadata": {
        "colab": {
          "base_uri": "https://localhost:8080/"
        },
        "id": "CUVZs-zXERXd",
        "outputId": "1fc1af21-63f9-42dd-8456-7312df1140ab"
      },
      "execution_count": 46,
      "outputs": [
        {
          "output_type": "stream",
          "name": "stdout",
          "text": [
            "\n",
            "Lieux avec une latitude >= 11 et une longitude <= 0.5:\n",
            "        ID location_name       lat     long\n",
            "5  2353158      Zyonguen  12.36667 -0.45000\n",
            "6  2353159     Zyiliwèlè  12.38333 -2.73333\n",
            "7  2353160        Zyanko  12.78333 -0.41667\n",
            "8  2353161         Zouta  13.14908 -1.28197\n",
            "9  2353162     Zourtenga  12.95741 -1.28745\n"
          ]
        }
      ]
    },
    {
      "cell_type": "code",
      "source": [
        "# Création d'un objet ExcelWriter pour écrire dans plusieurs feuilles excel\n",
        "chemin_excel = \"/content/drive/MyDrive/Data/mini_projet.xlsx\""
      ],
      "metadata": {
        "id": "BIeBd8Bfh1Oq"
      },
      "execution_count": 47,
      "outputs": []
    },
    {
      "cell_type": "code",
      "source": [
        "with pd.ExcelWriter(chemin_excel) as writer:\n",
        "    # Sauvegarder les données 'gounghin' dans la première feuille\n",
        "    df_gounghin.to_excel(writer, sheet_name='gounghin', index=False)\n",
        "    # Sauvegarder les données 'A_to_P' dans la seconde feuille\n",
        "    df_Burkina_A_P.to_excel(writer, sheet_name='A_to_P', index=False)\n",
        "print(f\"\\nFichier Excel '{chemin_excel}' créé avec les feuilles 'gounghin' et 'A_to_P'.\")"
      ],
      "metadata": {
        "id": "oOSpZfTviE7g",
        "colab": {
          "base_uri": "https://localhost:8080/"
        },
        "outputId": "e5a647bf-9559-4767-c69f-44a8f0dad021"
      },
      "execution_count": 48,
      "outputs": [
        {
          "output_type": "stream",
          "name": "stdout",
          "text": [
            "\n",
            "Fichier Excel '/content/drive/MyDrive/Data/mini_projet.xlsx' créé avec les feuilles 'gounghin' et 'A_to_P'.\n"
          ]
        }
      ]
    },
    {
      "cell_type": "markdown",
      "source": [
        "**Fin de projet**"
      ],
      "metadata": {
        "id": "X8YKZPSl14mG"
      }
    },
    {
      "cell_type": "code",
      "source": [],
      "metadata": {
        "colab": {
          "base_uri": "https://localhost:8080/"
        },
        "id": "kFxiSd6bhvg8",
        "outputId": "d5e2a090-6f56-4c71-89e7-d88ba3295cb3"
      },
      "execution_count": null,
      "outputs": [
        {
          "output_type": "stream",
          "name": "stdout",
          "text": [
            "\n",
            "Fichier Excel '/content/drive/MyDrive/Data/mini_projet.xlsx' créé avec les feuilles 'gounghin' et 'A_to_P'.\n"
          ]
        }
      ]
    }
  ]
}